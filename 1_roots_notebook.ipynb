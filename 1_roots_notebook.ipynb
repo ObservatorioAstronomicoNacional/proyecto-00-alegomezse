{
 "cells": [
  {
   "cell_type": "markdown",
   "metadata": {},
   "source": [
    "#  variables and Functions "
   ]
  },
  {
   "cell_type": "markdown",
   "metadata": {},
   "source": [
    "## 1st part \n",
    "Definition of variables and keplerSolver(t_obs) function"
   ]
  },
  {
   "cell_type": "code",
   "execution_count": 10,
   "metadata": {},
   "outputs": [],
   "source": [
    "################################\n",
    "#Imports\n",
    "################################\n",
    "import numpy as np \n",
    "from matplotlib import pyplot as plt\n",
    "from astropy import units as u\n",
    "from astropy.time import Time\n",
    "\n",
    "\n",
    "################################\n",
    "# VARIABLES\n",
    "################################\n",
    "R = 6378 * u.km                   # Earth's Radius\n",
    "a = 1.30262 * R                   # \"Circular\" radius\n",
    "e = 0.16561                       # Eccentricity\n",
    "mu = 398600.4405 * u.km**3 / u.s**2 # Earth's G * M\n",
    "w = 15 * u.deg                    # Omega (argument of pericenter)\n",
    "t_p = Time('2025-03-31T00:00:00', format='isot', scale='utc')\n",
    "t   = Time('2025-04-01T00:00:00', format='isot', scale='utc')"
   ]
  },
  {
   "cell_type": "code",
   "execution_count": 11,
   "metadata": {},
   "outputs": [],
   "source": [
    "\n",
    "def keplerSolver(t_obs):\n",
    "    \"\"\"\n",
    "    Solves Kepler's equation E - e*sin(E) - l = 0 for the eccentric anomaly E\n",
    "    using the Newton-Raphson method to find the roots of the problem.\n",
    "\n",
    "    \"\"\"\n",
    "    delta_t = (t_obs - t_p).sec # delta t in seconds\n",
    "    # Compute mean anomaly l (l = sqrt(mu/a^3)*(t - t_p))\n",
    "    l = np.sqrt(mu / (a**3))\n",
    "    mean_anomaly = (l * delta_t).value  # scalar (dimensionless)\n",
    "    \n",
    "    # We use Kepler's equation and it's derivative:\n",
    "    f = lambda E: E - e * np.sin(E) - mean_anomaly\n",
    "    f_der = lambda E: 1 - e * np.cos(E)\n",
    "    \n",
    "    # Newton-Raphson iteration\n",
    "    E = 1000.0  # initial guess\n",
    "    max_iter =1000\n",
    "    epsilon = 1e-10\n",
    "    for i in range(max_iter):\n",
    "        f_E = f(E)\n",
    "        if np.abs(f_E) < epsilon:\n",
    "            break\n",
    "        E = E - f_E / f_der(E)\n",
    "    return E\n",
    "\n",
    "\n",
    "\n",
    "\n",
    "\n"
   ]
  },
  {
   "cell_type": "markdown",
   "metadata": {},
   "source": [
    "## 2nd part:\n",
    "position(t) function"
   ]
  },
  {
   "cell_type": "code",
   "execution_count": 12,
   "metadata": {},
   "outputs": [],
   "source": [
    "def position(t_obs):\n",
    "    \"\"\"\n",
    "    Returns the radial (r) and angular (phi) position of the satellite at time t_obs.\n",
    "    \"\"\"\n",
    "    E = keplerSolver(t_obs)\n",
    "    #We find f_angle in terms of E \n",
    "    f_angle = 2 * np.arctan(np.sqrt((1 + e) / (1 - e)) * np.tan(E / 2)) * u.rad\n",
    "    # we then find r(f) and \\phi(f):\n",
    "    r = a * ((1 - e**2) / (1 + e * np.cos(f_angle)))\n",
    "    phi = f_angle + w  \n",
    "    return r, phi"
   ]
  },
  {
   "cell_type": "markdown",
   "metadata": {},
   "source": [
    "## 3nd part\n",
    "orbit() function"
   ]
  },
  {
   "cell_type": "code",
   "execution_count": 13,
   "metadata": {},
   "outputs": [],
   "source": [
    "def orbit():\n",
    "    \"\"\"\n",
    "    Generates and plots the orbit over one period with a 10-second step.\n",
    "    \"\"\"\n",
    "    ### Variables ###\n",
    "    # Compute total seconds between t and t_p\n",
    "    #using Kepler's third law\n",
    "    period = np.sqrt( (4*(np.pi**2)*(a**3))/(mu))\n",
    "    total_seconds = period.to(u.s).value  # get period in seconds (scalar)\n",
    "    seconds_array = np.arange(0, total_seconds + 1, 10)\n",
    "    t_values = t_p + seconds_array * u.s \n",
    "    # Defines arrays for r and phi\n",
    "    r_values = np.zeros(len(t_values))\n",
    "    phi_values = np.zeros(len(t_values))\n",
    "    ### Main Loop ###\n",
    "    for idx, t_val in enumerate(t_values):\n",
    "        r, phi = position(t_val)\n",
    "        r_values[idx] = r.value  # r in km\n",
    "        phi_values[idx] = phi.to(u.rad).value  # convert phi to radians for x,y calculation\n",
    "    \n",
    "    # Convert polar coordinates to Cartesian for plotting\n",
    "    x = r_values * np.cos(phi_values)\n",
    "    y = r_values * np.sin(phi_values)\n",
    "    F2_r =  a.value * e\n",
    "    w_rad = w.to(u.rad).value\n",
    "    F2_x = F2_r * np.cos(w_rad)\n",
    "    F2_y = F2_r * np.sin(w_rad)\n",
    "    plt.figure(figsize=(6,6))\n",
    "    plt.scatter(x, y, s=1)\n",
    "    plt.scatter(0,0)\n",
    "    plt.scatter(F2_x, F2_y, color='red')\n",
    "    plt.xlabel('x (km)')\n",
    "    plt.ylabel('y (km)')\n",
    "    plt.title('Satellite Orbit')\n",
    "    plt.grid(True)\n",
    "    plt.axis('equal')\n",
    "    plt.show()"
   ]
  },
  {
   "cell_type": "markdown",
   "metadata": {},
   "source": [
    "##  4th Part \n",
    "date(r0) function"
   ]
  },
  {
   "cell_type": "code",
   "execution_count": 18,
   "metadata": {},
   "outputs": [],
   "source": [
    "def date(r0):\n",
    "    \"\"\"\n",
    "    Given a value r0 the function date(r0) verifies if the position  r0 lies on the orbit of the object, if it does then it proceeds to calculate the time when the object passes through that position.\n",
    "\n",
    "    \"\"\"\n",
    "    # 1. Verify that r0 is reachable: r_peri = a*(1-e) y r_aphe = a*(1+e)\n",
    "    r_peri = a * (1 - e)\n",
    "    r_aphe = a * (1 + e)\n",
    "    if r0 < r_peri or r0 > r_aphe:\n",
    "        print(\"The given position is not reachable on the orbit.\")\n",
    "        return None\n",
    "    \n",
    "    # 2.We set cos(f) in terms of r \n",
    "    #    r0 = a(1-e^2)/(1+e*cos(f))  =>  cos(f) = (a*(1-e^2)/r0 - 1)/e\n",
    "    cos_f = (a * (1 - e**2) / r0 - 1) / e\n",
    "    # To avoid numeric errors: we ensure arccos is between [-1, 1]\n",
    "    cos_f = np.clip(cos_f.value, -1, 1)\n",
    "    f = np.arccos(cos_f) * u.rad\n",
    "    print(\"f is :\",np.round(f,4))\n",
    "    # 3. We calculate tan(E/2) \n",
    "    #    tan(E/2) = sqrt((1-e)/(1+e)) * tan(f/2)\n",
    "    tan_E2 = np.sqrt((1 - e) / (1 + e)) * np.tan((f / 2).value)\n",
    "    # Then we calculate E \n",
    "    E = 2 * np.arctan(tan_E2) * u.rad\n",
    "    # By calculating the first side of the kepler equation in terms of E we get E - e*sin(E)\n",
    "    # M(E) = E - esin(E) = l = n*deltaT\n",
    "    #deltaT = M(E)/n\n",
    "    E_val = E.value  # whithout units\n",
    "    M = E_val - e * np.sin(E_val)\n",
    "    n = np.sqrt(mu / (a**3))\n",
    "    dt = (M / n.value) * u.s\n",
    "    t0 = t_p + dt\n",
    "    return t0\n"
   ]
  },
  {
   "cell_type": "markdown",
   "metadata": {},
   "source": [
    "# Code execution :"
   ]
  },
  {
   "cell_type": "code",
   "execution_count": 23,
   "metadata": {},
   "outputs": [
    {
     "name": "stdout",
     "output_type": "stream",
     "text": [
      "At t = 2025-04-01 00:00:00.000 r = 9658.64243270032 km phi = 185.66753794159973 deg\n"
     ]
    }
   ],
   "source": [
    "\n",
    "#For a specific time:\n",
    "r_sat, phi_sat = position(t)\n",
    "print(\"At t =\", t.iso, \"r =\", r_sat, \"phi =\", phi_sat.to(u.deg))\n"
   ]
  },
  {
   "cell_type": "code",
   "execution_count": 19,
   "metadata": {},
   "outputs": [
    {
     "data": {
      "image/png": "[encoded data removed]",
      "text/plain": [
       "<Figure size 600x600 with 1 Axes>"
      ]
     },
     "metadata": {},
     "output_type": "display_data"
    }
   ],
   "source": [
    "#For a whole period:\n",
    "orbit()"
   ]
  },
  {
   "cell_type": "code",
   "execution_count": 22,
   "metadata": {},
   "outputs": [
    {
     "name": "stdout",
     "output_type": "stream",
     "text": [
      "f is : 2.7887 rad\n",
      "The satellite reaches r0 = 9567.0 km at time t0 = 2025-03-31 00:53:09.780\n"
     ]
    }
   ],
   "source": [
    "\n",
    "#For an initial r0:\n",
    "r0 = 1.5 * R  # Por ejemplo, 1.5 veces el radio de la Tierra\n",
    "t0 = date(r0)\n",
    "if t0 is not None:\n",
    "    print(\"The satellite reaches r0 =\", r0, \"at time t0 =\", t0.iso)\n",
    "else:\n",
    "    print(\"f\")"
   ]
  }
 ],
 "metadata": {
  "kernelspec": {
   "display_name": "Python 3 (ipykernel)",
   "language": "python",
   "name": "python3"
  },
  "language_info": {
   "codemirror_mode": {
    "name": "ipython",
    "version": 3
   },
   "file_extension": ".py",
   "mimetype": "text/x-python",
   "name": "python",
   "nbconvert_exporter": "python",
   "pygments_lexer": "ipython3",
   "version": "3.10.12"
  }
 },
 "nbformat": 4,
 "nbformat_minor": 2
}
